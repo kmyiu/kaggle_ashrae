{
 "cells": [
  {
   "cell_type": "markdown",
   "metadata": {},
   "source": [
    "### Convert wind directon to 0-360\n",
    "### One-hot encoding for 'month','weekday','hour','wind_direction'"
   ]
  },
  {
   "cell_type": "code",
   "execution_count": 1,
   "metadata": {},
   "outputs": [],
   "source": [
    "import pandas as pd\n",
    "import numpy as np\n",
    "from datetime import datetime\n",
    "import seaborn as sns\n",
    "from sklearn.preprocessing import OneHotEncoder"
   ]
  },
  {
   "cell_type": "code",
   "execution_count": 2,
   "metadata": {},
   "outputs": [
    {
     "name": "stdout",
     "output_type": "stream",
     "text": [
      "(139773, 20)\n",
      "(277243, 20)\n"
     ]
    }
   ],
   "source": [
    "weather = pd.read_csv('files/weather_train_agg.csv')\n",
    "X_train = weather.copy()\n",
    "weather2 = pd.read_csv('files/weather_test_agg.csv')\n",
    "X_test = weather2.copy()\n",
    "print(X_train.shape)\n",
    "print(X_test.shape)"
   ]
  },
  {
   "cell_type": "code",
   "execution_count": 3,
   "metadata": {},
   "outputs": [
    {
     "name": "stdout",
     "output_type": "stream",
     "text": [
      "[0 1 5 4 6 7 2 3]\n",
      "[2 3 0 1 4 5 6 7]\n"
     ]
    },
    {
     "name": "stderr",
     "output_type": "stream",
     "text": [
      "/home/cyrus/ds/ashare/lib/python3.7/site-packages/ipykernel_launcher.py:1: SettingWithCopyWarning: \n",
      "A value is trying to be set on a copy of a slice from a DataFrame\n",
      "\n",
      "See the caveats in the documentation: http://pandas.pydata.org/pandas-docs/stable/user_guide/indexing.html#returning-a-view-versus-a-copy\n",
      "  \"\"\"Entry point for launching an IPython kernel.\n",
      "/home/cyrus/ds/ashare/lib/python3.7/site-packages/ipykernel_launcher.py:2: SettingWithCopyWarning: \n",
      "A value is trying to be set on a copy of a slice from a DataFrame\n",
      "\n",
      "See the caveats in the documentation: http://pandas.pydata.org/pandas-docs/stable/user_guide/indexing.html#returning-a-view-versus-a-copy\n",
      "  \n"
     ]
    }
   ],
   "source": [
    "X_train['wind_direction'][X_train['wind_direction'] == 360] = 0\n",
    "X_test['wind_direction'][X_test['wind_direction'] == 360] = 0\n",
    "X_train['wind_direction'] = pd.Series(X_train['wind_direction']/45, dtype='uint8')\n",
    "print(X_train['wind_direction'].unique())\n",
    "X_test['wind_direction'] = pd.Series(X_test['wind_direction']/45, dtype='uint8')\n",
    "print(X_test['wind_direction'].unique())"
   ]
  },
  {
   "cell_type": "code",
   "execution_count": 4,
   "metadata": {},
   "outputs": [],
   "source": [
    "onehot_col = ['month','weekday','hour','wind_direction']\n",
    "object_cols = ['month','weekday','hour','wind_direction']\n",
    "# object_cols = [col for col in X_train.columns if X_train[col].dtype == \"object\"]\n",
    "OH_encoder = OneHotEncoder(handle_unknown='ignore', sparse=False)\n",
    "OH_cols_train = pd.DataFrame(OH_encoder.fit_transform(X_train[onehot_col])) \n",
    "OH_cols_test = pd.DataFrame(OH_encoder.transform(X_test[onehot_col])) \n",
    "\n",
    "OH_cols_train.index = X_train.index\n",
    "OH_cols_test.index = X_test.index\n",
    "\n",
    "num_X_train = X_train.drop(object_cols, axis=1)\n",
    "num_X_test = X_test.drop(object_cols, axis=1)\n",
    "\n",
    "OH_X_train = pd.concat([num_X_train, OH_cols_train], axis=1)\n",
    "OH_X_test = pd.concat([num_X_test, OH_cols_test], axis=1)\n"
   ]
  },
  {
   "cell_type": "code",
   "execution_count": 13,
   "metadata": {},
   "outputs": [],
   "source": [
    "OH_X_train.drop(['year','day'],axis=1,inplace=True)\n",
    "OH_X_test.drop(['year','day'],axis=1,inplace=True)"
   ]
  },
  {
   "cell_type": "code",
   "execution_count": 14,
   "metadata": {},
   "outputs": [],
   "source": [
    "OH_X_train.to_csv('files/weather_train_XGB_old.csv',index = False)\n",
    "OH_X_test.to_csv('files/weather_test_XGB_old.csv',index = False)"
   ]
  },
  {
   "cell_type": "code",
   "execution_count": 15,
   "metadata": {},
   "outputs": [
    {
     "data": {
      "text/plain": [
       "precip_true_1_hr    float64\n",
       "site_id               int64\n",
       "timestamp            object\n",
       "air_temperature     float64\n",
       "cloud_coverage      float64\n",
       "                     ...   \n",
       "46                  float64\n",
       "47                  float64\n",
       "48                  float64\n",
       "49                  float64\n",
       "50                  float64\n",
       "Length: 65, dtype: object"
      ]
     },
     "execution_count": 15,
     "metadata": {},
     "output_type": "execute_result"
    }
   ],
   "source": [
    "OH_X_train.dtypes"
   ]
  },
  {
   "cell_type": "code",
   "execution_count": null,
   "metadata": {},
   "outputs": [],
   "source": []
  }
 ],
 "metadata": {
  "kernelspec": {
   "display_name": "Python 3",
   "language": "python",
   "name": "python3"
  },
  "language_info": {
   "codemirror_mode": {
    "name": "ipython",
    "version": 3
   },
   "file_extension": ".py",
   "mimetype": "text/x-python",
   "name": "python",
   "nbconvert_exporter": "python",
   "pygments_lexer": "ipython3",
   "version": "3.7.5rc1"
  }
 },
 "nbformat": 4,
 "nbformat_minor": 2
}

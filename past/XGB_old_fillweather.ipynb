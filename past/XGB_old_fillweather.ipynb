{
 "cells": [
  {
   "cell_type": "code",
   "execution_count": 8,
   "metadata": {},
   "outputs": [],
   "source": [
    "import pandas as pd"
   ]
  },
  {
   "cell_type": "code",
   "execution_count": 9,
   "metadata": {},
   "outputs": [],
   "source": [
    "weather = pd.read_csv('files/weather_test.csv')"
   ]
  },
  {
   "cell_type": "code",
   "execution_count": 10,
   "metadata": {},
   "outputs": [
    {
     "data": {
      "text/html": [
       "<div>\n",
       "<style scoped>\n",
       "    .dataframe tbody tr th:only-of-type {\n",
       "        vertical-align: middle;\n",
       "    }\n",
       "\n",
       "    .dataframe tbody tr th {\n",
       "        vertical-align: top;\n",
       "    }\n",
       "\n",
       "    .dataframe thead th {\n",
       "        text-align: right;\n",
       "    }\n",
       "</style>\n",
       "<table border=\"1\" class=\"dataframe\">\n",
       "  <thead>\n",
       "    <tr style=\"text-align: right;\">\n",
       "      <th></th>\n",
       "      <th>site_id</th>\n",
       "      <th>timestamp</th>\n",
       "      <th>air_temperature</th>\n",
       "      <th>cloud_coverage</th>\n",
       "      <th>dew_temperature</th>\n",
       "      <th>precip_depth_1_hr</th>\n",
       "      <th>sea_level_pressure</th>\n",
       "      <th>wind_direction</th>\n",
       "      <th>wind_speed</th>\n",
       "    </tr>\n",
       "  </thead>\n",
       "  <tbody>\n",
       "    <tr>\n",
       "      <td>0</td>\n",
       "      <td>0</td>\n",
       "      <td>2017-01-01 00:00:00</td>\n",
       "      <td>17.8</td>\n",
       "      <td>4.0</td>\n",
       "      <td>11.7</td>\n",
       "      <td>NaN</td>\n",
       "      <td>1021.4</td>\n",
       "      <td>100.0</td>\n",
       "      <td>3.6</td>\n",
       "    </tr>\n",
       "    <tr>\n",
       "      <td>1</td>\n",
       "      <td>0</td>\n",
       "      <td>2017-01-01 01:00:00</td>\n",
       "      <td>17.8</td>\n",
       "      <td>2.0</td>\n",
       "      <td>12.8</td>\n",
       "      <td>0.0</td>\n",
       "      <td>1022.0</td>\n",
       "      <td>130.0</td>\n",
       "      <td>3.1</td>\n",
       "    </tr>\n",
       "    <tr>\n",
       "      <td>2</td>\n",
       "      <td>0</td>\n",
       "      <td>2017-01-01 02:00:00</td>\n",
       "      <td>16.1</td>\n",
       "      <td>0.0</td>\n",
       "      <td>12.8</td>\n",
       "      <td>0.0</td>\n",
       "      <td>1021.9</td>\n",
       "      <td>140.0</td>\n",
       "      <td>3.1</td>\n",
       "    </tr>\n",
       "    <tr>\n",
       "      <td>3</td>\n",
       "      <td>0</td>\n",
       "      <td>2017-01-01 03:00:00</td>\n",
       "      <td>17.2</td>\n",
       "      <td>0.0</td>\n",
       "      <td>13.3</td>\n",
       "      <td>0.0</td>\n",
       "      <td>1022.2</td>\n",
       "      <td>140.0</td>\n",
       "      <td>3.1</td>\n",
       "    </tr>\n",
       "    <tr>\n",
       "      <td>4</td>\n",
       "      <td>0</td>\n",
       "      <td>2017-01-01 04:00:00</td>\n",
       "      <td>16.7</td>\n",
       "      <td>2.0</td>\n",
       "      <td>13.3</td>\n",
       "      <td>0.0</td>\n",
       "      <td>1022.3</td>\n",
       "      <td>130.0</td>\n",
       "      <td>2.6</td>\n",
       "    </tr>\n",
       "  </tbody>\n",
       "</table>\n",
       "</div>"
      ],
      "text/plain": [
       "   site_id            timestamp  air_temperature  cloud_coverage  \\\n",
       "0        0  2017-01-01 00:00:00             17.8             4.0   \n",
       "1        0  2017-01-01 01:00:00             17.8             2.0   \n",
       "2        0  2017-01-01 02:00:00             16.1             0.0   \n",
       "3        0  2017-01-01 03:00:00             17.2             0.0   \n",
       "4        0  2017-01-01 04:00:00             16.7             2.0   \n",
       "\n",
       "   dew_temperature  precip_depth_1_hr  sea_level_pressure  wind_direction  \\\n",
       "0             11.7                NaN              1021.4           100.0   \n",
       "1             12.8                0.0              1022.0           130.0   \n",
       "2             12.8                0.0              1021.9           140.0   \n",
       "3             13.3                0.0              1022.2           140.0   \n",
       "4             13.3                0.0              1022.3           130.0   \n",
       "\n",
       "   wind_speed  \n",
       "0         3.6  \n",
       "1         3.1  \n",
       "2         3.1  \n",
       "3         3.1  \n",
       "4         2.6  "
      ]
     },
     "metadata": {},
     "output_type": "display_data"
    }
   ],
   "source": [
    "display(weather_train.head())"
   ]
  },
  {
   "cell_type": "code",
   "execution_count": 11,
   "metadata": {},
   "outputs": [],
   "source": [
    "weather2 = weather[:]"
   ]
  },
  {
   "cell_type": "code",
   "execution_count": 20,
   "metadata": {},
   "outputs": [
    {
     "name": "stdout",
     "output_type": "stream",
     "text": [
      "cloud_coverage        140448\n",
      "precip_depth_1_hr      95588\n",
      "sea_level_pressure     21265\n",
      "wind_direction         12370\n",
      "dtype: int64\n"
     ]
    }
   ],
   "source": [
    "missing_val_count_by_column = (weather2.isnull().sum())\n",
    "print(missing_val_count_by_column[missing_val_count_by_column > 0])"
   ]
  },
  {
   "cell_type": "code",
   "execution_count": 13,
   "metadata": {},
   "outputs": [
    {
     "data": {
      "text/plain": [
       "(277243, 9)"
      ]
     },
     "execution_count": 13,
     "metadata": {},
     "output_type": "execute_result"
    }
   ],
   "source": [
    "weather_train.shape"
   ]
  },
  {
   "cell_type": "code",
   "execution_count": 14,
   "metadata": {},
   "outputs": [],
   "source": [
    "a = weather[weather['air_temperature'].isna()]\n",
    "for index, row in a.iterrows():\n",
    "#     display(row)\n",
    "    t = weather.iloc[index-1:index+2]\n",
    "    t = t['air_temperature']\n",
    "    if t.isna().sum()<len(t)/2:\n",
    "        weather2.at[index,'air_temperature'] = round(t.mean(),1)\n",
    "        continue\n",
    "    t = weather.iloc[index-3:index+4]\n",
    "    t = t['air_temperature']\n",
    "    if t.isna().sum()<len(t)/2:\n",
    "        weather2.at[index,'air_temperature'] = round(t.mean(),1)\n",
    "        continue\n",
    "    t = weather.iloc[index-6:index+7]\n",
    "    t = t['air_temperature']\n",
    "    if t.isna().sum()<len(t)/2:\n",
    "        weather2.at[index,'air_temperature'] = round(t.mean(),1)\n",
    "        continue\n",
    "    t = weather.iloc[index-24:index+25]\n",
    "    t = t['air_temperature']\n",
    "    if t.isna().sum()<len(t):\n",
    "        weather2.at[index,'air_temperature'] = round(t.mean(),1)\n",
    "        continue\n",
    "    print('Error')\n",
    "    "
   ]
  },
  {
   "cell_type": "code",
   "execution_count": 15,
   "metadata": {},
   "outputs": [],
   "source": [
    "a = weather[weather['dew_temperature'].isna()]\n",
    "for index, row in a.iterrows():\n",
    "#     display(row)\n",
    "    t = weather.iloc[index-1:index+2]\n",
    "    t = t['dew_temperature']\n",
    "    if t.isna().sum()<len(t)/2:\n",
    "        weather2.at[index,'dew_temperature'] = round(t.mean(),1)\n",
    "        continue\n",
    "    t = weather.iloc[index-3:index+4]\n",
    "    t = t['dew_temperature']\n",
    "    if t.isna().sum()<len(t)/2:\n",
    "        weather2.at[index,'dew_temperature'] = round(t.mean(),1)\n",
    "        continue\n",
    "    t = weather.iloc[index-6:index+7]\n",
    "    t = t['dew_temperature']\n",
    "    if t.isna().sum()<len(t)/2:\n",
    "        weather2.at[index,'dew_temperature'] = round(t.mean(),1)\n",
    "        continue\n",
    "    t = weather.iloc[index-24:index+25]\n",
    "    t = t['dew_temperature']\n",
    "    if t.isna().sum()<len(t):\n",
    "        weather2.at[index,'dew_temperature'] = round(t.mean(),1)\n",
    "        continue\n",
    "    print('Error')"
   ]
  },
  {
   "cell_type": "code",
   "execution_count": 16,
   "metadata": {},
   "outputs": [],
   "source": [
    "a = weather[weather['wind_speed'].isna()]\n",
    "for index, row in a.iterrows():\n",
    "#     display(row)\n",
    "    t = weather.iloc[index-1:index+2]\n",
    "    t = t['wind_speed']\n",
    "    if t.isna().sum()<len(t)/2:\n",
    "        weather2.at[index,'wind_speed'] = round(t.mean(),1)\n",
    "        continue\n",
    "    t = weather.iloc[index-3:index+4]\n",
    "    t = t['wind_speed']\n",
    "    if t.isna().sum()<len(t)/2:\n",
    "        weather2.at[index,'wind_speed'] = round(t.mean(),1)\n",
    "        continue\n",
    "    t = weather.iloc[index-6:index+7]\n",
    "    t = t['wind_speed']\n",
    "    if t.isna().sum()<len(t)/2:\n",
    "        weather2.at[index,'wind_speed'] = round(t.mean(),1)\n",
    "        continue\n",
    "    t = weather.iloc[index-24:index+25]\n",
    "    t = t['wind_speed']\n",
    "    if t.isna().sum()<len(t):\n",
    "        weather2.at[index,'wind_speed'] = round(t.mean(),1)\n",
    "        continue\n",
    "    print('Error')"
   ]
  },
  {
   "cell_type": "code",
   "execution_count": 19,
   "metadata": {},
   "outputs": [
    {
     "data": {
      "text/html": [
       "<div>\n",
       "<style scoped>\n",
       "    .dataframe tbody tr th:only-of-type {\n",
       "        vertical-align: middle;\n",
       "    }\n",
       "\n",
       "    .dataframe tbody tr th {\n",
       "        vertical-align: top;\n",
       "    }\n",
       "\n",
       "    .dataframe thead th {\n",
       "        text-align: right;\n",
       "    }\n",
       "</style>\n",
       "<table border=\"1\" class=\"dataframe\">\n",
       "  <thead>\n",
       "    <tr style=\"text-align: right;\">\n",
       "      <th></th>\n",
       "      <th>site_id</th>\n",
       "      <th>timestamp</th>\n",
       "      <th>air_temperature</th>\n",
       "      <th>cloud_coverage</th>\n",
       "      <th>dew_temperature</th>\n",
       "      <th>precip_depth_1_hr</th>\n",
       "      <th>sea_level_pressure</th>\n",
       "      <th>wind_direction</th>\n",
       "      <th>wind_speed</th>\n",
       "    </tr>\n",
       "  </thead>\n",
       "  <tbody>\n",
       "  </tbody>\n",
       "</table>\n",
       "</div>"
      ],
      "text/plain": [
       "Empty DataFrame\n",
       "Columns: [site_id, timestamp, air_temperature, cloud_coverage, dew_temperature, precip_depth_1_hr, sea_level_pressure, wind_direction, wind_speed]\n",
       "Index: []"
      ]
     },
     "execution_count": 19,
     "metadata": {},
     "output_type": "execute_result"
    }
   ],
   "source": [
    "weather2[weather2['air_temperature'].isna()]"
   ]
  },
  {
   "cell_type": "code",
   "execution_count": null,
   "metadata": {},
   "outputs": [],
   "source": [
    "def relative_humidity(Tc,Tdc):\n",
    "    E = 6.11*10.0**(7.5*Tdc/(237.7+Tdc))\n",
    "    Es = 6.11*10.0**(7.5*Tc/(237.7+Tc))    \n",
    "    RH = (E/Es)*100\n",
    "    return RH\n",
    "\n",
    "weather2['humidity'] = relative_humidity(weather2.air_temperature, weather2.dew_temperature).astype(np.float16)\n",
    "weather2.loc[weather2['humidity']>100, 'humidity'] = 100"
   ]
  },
  {
   "cell_type": "code",
   "execution_count": null,
   "metadata": {},
   "outputs": [],
   "source": [
    "def apparent_temp(T,v):\n",
    "    return T-2*np.sqrt(v)\n",
    "weather2['apparent_temp'] = apparent_temp(weather2.air_temperature, weather2.wind_speed).astype(np.float16)"
   ]
  },
  {
   "cell_type": "code",
   "execution_count": 22,
   "metadata": {},
   "outputs": [],
   "source": [
    "weather2.to_csv('files/weather_test2.csv', index=False)"
   ]
  },
  {
   "cell_type": "code",
   "execution_count": null,
   "metadata": {},
   "outputs": [],
   "source": []
  }
 ],
 "metadata": {
  "kernelspec": {
   "display_name": "Python 3",
   "language": "python",
   "name": "python3"
  },
  "language_info": {
   "codemirror_mode": {
    "name": "ipython",
    "version": 3
   },
   "file_extension": ".py",
   "mimetype": "text/x-python",
   "name": "python",
   "nbconvert_exporter": "python",
   "pygments_lexer": "ipython3",
   "version": "3.7.5rc1"
  }
 },
 "nbformat": 4,
 "nbformat_minor": 2
}

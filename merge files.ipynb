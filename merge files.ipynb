{
 "cells": [
  {
   "cell_type": "code",
   "execution_count": 1,
   "metadata": {},
   "outputs": [],
   "source": [
    "import numpy as np\n",
    "import pandas as pd\n",
    "import matplotlib\n",
    "# import matplotlib.pyplot as plt\n",
    "# import seaborn as sns\n",
    "import warnings\n",
    "import gc\n",
    "import sys\n",
    "import pickle\n",
    "# from sklearn.preprocessing import OneHotEncoder"
   ]
  },
  {
   "cell_type": "code",
   "execution_count": 2,
   "metadata": {},
   "outputs": [],
   "source": [
    "# for train , some rows have to be dropped\n",
    "# drop test set with no weather available"
   ]
  },
  {
   "cell_type": "code",
   "execution_count": 3,
   "metadata": {},
   "outputs": [],
   "source": [
    "building = pd.read_csv('files/building_metadata2.csv')\n",
    "# weather_train = pd.read_csv('files/weather_train_agg.csv')\n",
    "# train = pd.read_csv('files/train.csv')\n",
    "# dump_name = 'train_1209'\n",
    "weather_train = pd.read_csv('files/weather_test_agg.csv')\n",
    "train = pd.read_csv('files/test.csv')\n",
    "dump_name = 'test_1209'"
   ]
  },
  {
   "cell_type": "code",
   "execution_count": 4,
   "metadata": {},
   "outputs": [
    {
     "data": {
      "text/plain": [
       "(41697600, 4)"
      ]
     },
     "execution_count": 4,
     "metadata": {},
     "output_type": "execute_result"
    }
   ],
   "source": [
    "train.shape"
   ]
  },
  {
   "cell_type": "code",
   "execution_count": 5,
   "metadata": {},
   "outputs": [],
   "source": [
    "def reduce_mem_usage(props):\n",
    "    start_mem_usg = props.memory_usage().sum() / 1024**2 \n",
    "    print(\"Memory usage of properties dataframe is :\",start_mem_usg,\" MB\")\n",
    "    NAlist = [] # Keeps track of columns that have missing values filled in. \n",
    "    for col in props.columns:\n",
    "        if props[col].dtype != object:  # Exclude strings\n",
    "            \n",
    "            # Print current column type\n",
    "#             print(\"******************************\")\n",
    "#             print(\"Column: \",col)\n",
    "#             print(\"dtype before: \",props[col].dtype)\n",
    "            \n",
    "            # make variables for Int, max and min\n",
    "            IsInt = False\n",
    "            mx = props[col].max()\n",
    "            mn = props[col].min()\n",
    "            \n",
    "            # Integer does not support NA, therefore, NA needs to be filled\n",
    "            if not np.isfinite(props[col]).all(): \n",
    "                NAlist.append(col)\n",
    "                props[col].fillna(mn-1,inplace=True)  \n",
    "                   \n",
    "            # test if column can be converted to an integer\n",
    "            asint = props[col].fillna(0).astype(np.int64)\n",
    "            result = (props[col] - asint)\n",
    "            result = result.sum()\n",
    "            if result > -0.01 and result < 0.01:\n",
    "                IsInt = True\n",
    "\n",
    "            \n",
    "            # Make Integer/unsigned Integer datatypes\n",
    "            if IsInt:\n",
    "                if mn >= 0:\n",
    "                    if mx < 255:\n",
    "                        props[col] = props[col].astype(np.uint8)\n",
    "                    elif mx < 65535:\n",
    "                        props[col] = props[col].astype(np.uint16)\n",
    "                    elif mx < 4294967295:\n",
    "                        props[col] = props[col].astype(np.uint32)\n",
    "                    else:\n",
    "                        props[col] = props[col].astype(np.uint64)\n",
    "                else:\n",
    "                    if mn > np.iinfo(np.int8).min and mx < np.iinfo(np.int8).max:\n",
    "                        props[col] = props[col].astype(np.int8)\n",
    "                    elif mn > np.iinfo(np.int16).min and mx < np.iinfo(np.int16).max:\n",
    "                        props[col] = props[col].astype(np.int16)\n",
    "                    elif mn > np.iinfo(np.int32).min and mx < np.iinfo(np.int32).max:\n",
    "                        props[col] = props[col].astype(np.int32)\n",
    "                    elif mn > np.iinfo(np.int64).min and mx < np.iinfo(np.int64).max:\n",
    "                        props[col] = props[col].astype(np.int64)    \n",
    "            \n",
    "            # Make float datatypes 32 bit\n",
    "            else:\n",
    "                props[col] = props[col].astype(np.float32)\n",
    "            \n",
    "            # Print new column type\n",
    "#             print(\"dtype after: \",props[col].dtype)\n",
    "    \n",
    "    # Print final result\n",
    "    print(\"___MEMORY USAGE AFTER COMPLETION:___\")\n",
    "    mem_usg = props.memory_usage().sum() / 1024**2 \n",
    "    print(\"Memory usage is: \",mem_usg,\" MB\")\n",
    "    print(\"This is \",100*mem_usg/start_mem_usg,\"% of the initial size\")\n",
    "    return props, NAlist\n"
   ]
  },
  {
   "cell_type": "code",
   "execution_count": 6,
   "metadata": {
    "scrolled": true
   },
   "outputs": [
    {
     "name": "stdout",
     "output_type": "stream",
     "text": [
      "Memory usage of properties dataframe is : 0.0664520263671875  MB\n",
      "___MEMORY USAGE AFTER COMPLETION:___\n",
      "Memory usage is:  0.023613929748535156  MB\n",
      "This is  35.535304247990815 % of the initial size\n"
     ]
    }
   ],
   "source": [
    "building, NAlist = reduce_mem_usage(building)"
   ]
  },
  {
   "cell_type": "code",
   "execution_count": 7,
   "metadata": {
    "scrolled": true
   },
   "outputs": [
    {
     "name": "stdout",
     "output_type": "stream",
     "text": [
      "Memory usage of properties dataframe is : 40.18885040283203  MB\n",
      "___MEMORY USAGE AFTER COMPLETION:___\n",
      "Memory usage is:  15.59969425201416  MB\n",
      "This is  38.81597531566835 % of the initial size\n"
     ]
    }
   ],
   "source": [
    "weather_train, NAlist = reduce_mem_usage(weather_train)"
   ]
  },
  {
   "cell_type": "code",
   "execution_count": 8,
   "metadata": {},
   "outputs": [
    {
     "name": "stdout",
     "output_type": "stream",
     "text": [
      "Memory usage of properties dataframe is : 1272.5098876953125  MB\n",
      "___MEMORY USAGE AFTER COMPLETION:___\n",
      "Memory usage is:  596.4890747070312  MB\n",
      "This is  46.87500509621608 % of the initial size\n"
     ]
    }
   ],
   "source": [
    "train, NAlist = reduce_mem_usage(train)"
   ]
  },
  {
   "cell_type": "code",
   "execution_count": 9,
   "metadata": {},
   "outputs": [],
   "source": [
    "train = train.merge(building, on='building_id', how='left')"
   ]
  },
  {
   "cell_type": "code",
   "execution_count": 10,
   "metadata": {},
   "outputs": [
    {
     "data": {
      "text/plain": [
       "20"
      ]
     },
     "execution_count": 10,
     "metadata": {},
     "output_type": "execute_result"
    }
   ],
   "source": [
    "del building\n",
    "gc.collect()"
   ]
  },
  {
   "cell_type": "code",
   "execution_count": 11,
   "metadata": {},
   "outputs": [
    {
     "name": "stdout",
     "output_type": "stream",
     "text": [
      "Series([], dtype: int64)\n"
     ]
    }
   ],
   "source": [
    "missing_val_count_by_column = (train.isnull().sum())\n",
    "print(missing_val_count_by_column[missing_val_count_by_column > 0])"
   ]
  },
  {
   "cell_type": "code",
   "execution_count": 12,
   "metadata": {},
   "outputs": [],
   "source": [
    "train = train.merge(weather_train, on=['site_id', 'timestamp'], how='left')"
   ]
  },
  {
   "cell_type": "code",
   "execution_count": 13,
   "metadata": {},
   "outputs": [],
   "source": [
    "del weather_train\n",
    "gc.collect();"
   ]
  },
  {
   "cell_type": "code",
   "execution_count": 14,
   "metadata": {},
   "outputs": [
    {
     "name": "stdout",
     "output_type": "stream",
     "text": [
      "weekday               199029\n",
      "hour                  199029\n",
      "month                 199029\n",
      "year                  199029\n",
      "air_temperature       199029\n",
      "cloud_coverage        199029\n",
      "dew_temperature       199029\n",
      "precip_depth_1_hr     199029\n",
      "sea_level_pressure    199029\n",
      "wind_direction        199029\n",
      "wind_speed            199029\n",
      "humidity              199029\n",
      "apparent_temp         199029\n",
      "day                   199029\n",
      "min_temperature       199029\n",
      "max_temperature       199029\n",
      "mean_temperature      199029\n",
      "dtype: int64\n"
     ]
    }
   ],
   "source": [
    "missing_val_count_by_column = (train.isnull().sum())\n",
    "print(missing_val_count_by_column[missing_val_count_by_column > 0])"
   ]
  },
  {
   "cell_type": "code",
   "execution_count": 15,
   "metadata": {},
   "outputs": [],
   "source": [
    "# only for train\n",
    "# https://www.kaggle.com/corochann/ashrae-training-lgbm-by-meter-type\n",
    "    \n",
    "# Removing weired data on site_id 0\n",
    "\n",
    "# As you can see above, this data looks weired until May 20. It is reported in this discussion by @barnwellguy that All electricity meter is 0 until May 20 for site_id == 0. I will remove these data from training data.\n",
    "\n",
    "# It corresponds to building_id <= 104.\n",
    "\n",
    "\n",
    "# https://www.kaggle.com/c/ashrae-energy-prediction/discussion/113254#latest-667876\n",
    "\n",
    "# 363 consume energy before built"
   ]
  },
  {
   "cell_type": "code",
   "execution_count": 16,
   "metadata": {},
   "outputs": [],
   "source": [
    "# train = train.query('not (building_id <= 104 & meter == 0 & timestamp <= \"2016-05-20\")')"
   ]
  },
  {
   "cell_type": "code",
   "execution_count": 17,
   "metadata": {},
   "outputs": [],
   "source": [
    "# train = train.query('not (building_id == 363)')"
   ]
  },
  {
   "cell_type": "code",
   "execution_count": 18,
   "metadata": {},
   "outputs": [
    {
     "data": {
      "text/plain": [
       "(41697600, 26)"
      ]
     },
     "execution_count": 18,
     "metadata": {},
     "output_type": "execute_result"
    }
   ],
   "source": [
    "train.shape"
   ]
  },
  {
   "cell_type": "code",
   "execution_count": 19,
   "metadata": {},
   "outputs": [],
   "source": [
    "train.drop(['day','year'],axis=1,inplace=True)\n",
    "# train.drop(['timestamp','day','year'],axis=1,inplace=True)"
   ]
  },
  {
   "cell_type": "code",
   "execution_count": 20,
   "metadata": {},
   "outputs": [
    {
     "data": {
      "text/plain": [
       "(41697600, 24)"
      ]
     },
     "execution_count": 20,
     "metadata": {},
     "output_type": "execute_result"
    }
   ],
   "source": [
    "train.shape"
   ]
  },
  {
   "cell_type": "code",
   "execution_count": 21,
   "metadata": {},
   "outputs": [
    {
     "name": "stdout",
     "output_type": "stream",
     "text": [
      "weekday               199029\n",
      "hour                  199029\n",
      "month                 199029\n",
      "air_temperature       199029\n",
      "cloud_coverage        199029\n",
      "dew_temperature       199029\n",
      "precip_depth_1_hr     199029\n",
      "sea_level_pressure    199029\n",
      "wind_direction        199029\n",
      "wind_speed            199029\n",
      "humidity              199029\n",
      "apparent_temp         199029\n",
      "min_temperature       199029\n",
      "max_temperature       199029\n",
      "mean_temperature      199029\n",
      "dtype: int64\n"
     ]
    }
   ],
   "source": [
    "missing_val_count_by_column = (train.isnull().sum())\n",
    "print(missing_val_count_by_column[missing_val_count_by_column > 0])"
   ]
  },
  {
   "cell_type": "code",
   "execution_count": null,
   "metadata": {},
   "outputs": [],
   "source": [
    "# drop test set with no weather available"
   ]
  },
  {
   "cell_type": "code",
   "execution_count": 22,
   "metadata": {},
   "outputs": [],
   "source": [
    "train = train[pd.notnull(train['air_temperature'])]"
   ]
  },
  {
   "cell_type": "code",
   "execution_count": 23,
   "metadata": {},
   "outputs": [
    {
     "data": {
      "text/plain": [
       "(41498571, 24)"
      ]
     },
     "execution_count": 23,
     "metadata": {},
     "output_type": "execute_result"
    }
   ],
   "source": [
    "train.shape"
   ]
  },
  {
   "cell_type": "code",
   "execution_count": 24,
   "metadata": {},
   "outputs": [],
   "source": [
    "train['wind_direction'][train['wind_direction'] == 360] = 0\n",
    "train['wind_direction'] = pd.Series(train['wind_direction']/45, dtype='uint8')"
   ]
  },
  {
   "cell_type": "code",
   "execution_count": 25,
   "metadata": {
    "scrolled": true
   },
   "outputs": [
    {
     "data": {
      "text/html": [
       "<div>\n",
       "<style scoped>\n",
       "    .dataframe tbody tr th:only-of-type {\n",
       "        vertical-align: middle;\n",
       "    }\n",
       "\n",
       "    .dataframe tbody tr th {\n",
       "        vertical-align: top;\n",
       "    }\n",
       "\n",
       "    .dataframe thead th {\n",
       "        text-align: right;\n",
       "    }\n",
       "</style>\n",
       "<table border=\"1\" class=\"dataframe\">\n",
       "  <thead>\n",
       "    <tr style=\"text-align: right;\">\n",
       "      <th></th>\n",
       "      <th>row_id</th>\n",
       "      <th>building_id</th>\n",
       "      <th>meter</th>\n",
       "      <th>timestamp</th>\n",
       "      <th>site_id</th>\n",
       "      <th>primary_use</th>\n",
       "      <th>square_feet</th>\n",
       "      <th>floor_count</th>\n",
       "      <th>age</th>\n",
       "      <th>weekday</th>\n",
       "      <th>...</th>\n",
       "      <th>dew_temperature</th>\n",
       "      <th>precip_depth_1_hr</th>\n",
       "      <th>sea_level_pressure</th>\n",
       "      <th>wind_direction</th>\n",
       "      <th>wind_speed</th>\n",
       "      <th>humidity</th>\n",
       "      <th>apparent_temp</th>\n",
       "      <th>min_temperature</th>\n",
       "      <th>max_temperature</th>\n",
       "      <th>mean_temperature</th>\n",
       "    </tr>\n",
       "  </thead>\n",
       "  <tbody>\n",
       "    <tr>\n",
       "      <th>0</th>\n",
       "      <td>0</td>\n",
       "      <td>0</td>\n",
       "      <td>0</td>\n",
       "      <td>2017-01-01 00:00:00</td>\n",
       "      <td>0</td>\n",
       "      <td>Education</td>\n",
       "      <td>7432</td>\n",
       "      <td>0</td>\n",
       "      <td>9</td>\n",
       "      <td>6.0</td>\n",
       "      <td>...</td>\n",
       "      <td>11.7</td>\n",
       "      <td>0.0</td>\n",
       "      <td>1021.400024</td>\n",
       "      <td>2</td>\n",
       "      <td>3.6</td>\n",
       "      <td>67.5</td>\n",
       "      <td>14.010</td>\n",
       "      <td>12.2</td>\n",
       "      <td>27.200001</td>\n",
       "      <td>18.987499</td>\n",
       "    </tr>\n",
       "    <tr>\n",
       "      <th>1</th>\n",
       "      <td>1</td>\n",
       "      <td>1</td>\n",
       "      <td>0</td>\n",
       "      <td>2017-01-01 00:00:00</td>\n",
       "      <td>0</td>\n",
       "      <td>Education</td>\n",
       "      <td>2720</td>\n",
       "      <td>0</td>\n",
       "      <td>13</td>\n",
       "      <td>6.0</td>\n",
       "      <td>...</td>\n",
       "      <td>11.7</td>\n",
       "      <td>0.0</td>\n",
       "      <td>1021.400024</td>\n",
       "      <td>2</td>\n",
       "      <td>3.6</td>\n",
       "      <td>67.5</td>\n",
       "      <td>14.010</td>\n",
       "      <td>12.2</td>\n",
       "      <td>27.200001</td>\n",
       "      <td>18.987499</td>\n",
       "    </tr>\n",
       "    <tr>\n",
       "      <th>2</th>\n",
       "      <td>2</td>\n",
       "      <td>2</td>\n",
       "      <td>0</td>\n",
       "      <td>2017-01-01 00:00:00</td>\n",
       "      <td>0</td>\n",
       "      <td>Education</td>\n",
       "      <td>5376</td>\n",
       "      <td>0</td>\n",
       "      <td>26</td>\n",
       "      <td>6.0</td>\n",
       "      <td>...</td>\n",
       "      <td>11.7</td>\n",
       "      <td>0.0</td>\n",
       "      <td>1021.400024</td>\n",
       "      <td>2</td>\n",
       "      <td>3.6</td>\n",
       "      <td>67.5</td>\n",
       "      <td>14.010</td>\n",
       "      <td>12.2</td>\n",
       "      <td>27.200001</td>\n",
       "      <td>18.987499</td>\n",
       "    </tr>\n",
       "    <tr>\n",
       "      <th>3</th>\n",
       "      <td>3</td>\n",
       "      <td>3</td>\n",
       "      <td>0</td>\n",
       "      <td>2017-01-01 00:00:00</td>\n",
       "      <td>0</td>\n",
       "      <td>Education</td>\n",
       "      <td>23685</td>\n",
       "      <td>1</td>\n",
       "      <td>15</td>\n",
       "      <td>6.0</td>\n",
       "      <td>...</td>\n",
       "      <td>11.7</td>\n",
       "      <td>0.0</td>\n",
       "      <td>1021.400024</td>\n",
       "      <td>2</td>\n",
       "      <td>3.6</td>\n",
       "      <td>67.5</td>\n",
       "      <td>14.010</td>\n",
       "      <td>12.2</td>\n",
       "      <td>27.200001</td>\n",
       "      <td>18.987499</td>\n",
       "    </tr>\n",
       "    <tr>\n",
       "      <th>4</th>\n",
       "      <td>4</td>\n",
       "      <td>4</td>\n",
       "      <td>0</td>\n",
       "      <td>2017-01-01 00:00:00</td>\n",
       "      <td>0</td>\n",
       "      <td>Education</td>\n",
       "      <td>116607</td>\n",
       "      <td>6</td>\n",
       "      <td>42</td>\n",
       "      <td>6.0</td>\n",
       "      <td>...</td>\n",
       "      <td>11.7</td>\n",
       "      <td>0.0</td>\n",
       "      <td>1021.400024</td>\n",
       "      <td>2</td>\n",
       "      <td>3.6</td>\n",
       "      <td>67.5</td>\n",
       "      <td>14.010</td>\n",
       "      <td>12.2</td>\n",
       "      <td>27.200001</td>\n",
       "      <td>18.987499</td>\n",
       "    </tr>\n",
       "    <tr>\n",
       "      <th>...</th>\n",
       "      <td>...</td>\n",
       "      <td>...</td>\n",
       "      <td>...</td>\n",
       "      <td>...</td>\n",
       "      <td>...</td>\n",
       "      <td>...</td>\n",
       "      <td>...</td>\n",
       "      <td>...</td>\n",
       "      <td>...</td>\n",
       "      <td>...</td>\n",
       "      <td>...</td>\n",
       "      <td>...</td>\n",
       "      <td>...</td>\n",
       "      <td>...</td>\n",
       "      <td>...</td>\n",
       "      <td>...</td>\n",
       "      <td>...</td>\n",
       "      <td>...</td>\n",
       "      <td>...</td>\n",
       "      <td>...</td>\n",
       "      <td>...</td>\n",
       "    </tr>\n",
       "    <tr>\n",
       "      <th>41498566</th>\n",
       "      <td>41498566</td>\n",
       "      <td>1369</td>\n",
       "      <td>2</td>\n",
       "      <td>2018-12-31 23:00:00</td>\n",
       "      <td>15</td>\n",
       "      <td>Entertainment/public assembly</td>\n",
       "      <td>53194</td>\n",
       "      <td>5</td>\n",
       "      <td>64</td>\n",
       "      <td>0.0</td>\n",
       "      <td>...</td>\n",
       "      <td>2.2</td>\n",
       "      <td>0.0</td>\n",
       "      <td>1014.700012</td>\n",
       "      <td>3</td>\n",
       "      <td>5.1</td>\n",
       "      <td>92.5</td>\n",
       "      <td>-1.217</td>\n",
       "      <td>-4.4</td>\n",
       "      <td>3.300000</td>\n",
       "      <td>-0.575000</td>\n",
       "    </tr>\n",
       "    <tr>\n",
       "      <th>41498567</th>\n",
       "      <td>41498567</td>\n",
       "      <td>1402</td>\n",
       "      <td>0</td>\n",
       "      <td>2018-12-31 23:00:00</td>\n",
       "      <td>15</td>\n",
       "      <td>Lodging/residential</td>\n",
       "      <td>133594</td>\n",
       "      <td>11</td>\n",
       "      <td>56</td>\n",
       "      <td>0.0</td>\n",
       "      <td>...</td>\n",
       "      <td>2.2</td>\n",
       "      <td>0.0</td>\n",
       "      <td>1014.700012</td>\n",
       "      <td>3</td>\n",
       "      <td>5.1</td>\n",
       "      <td>92.5</td>\n",
       "      <td>-1.217</td>\n",
       "      <td>-4.4</td>\n",
       "      <td>3.300000</td>\n",
       "      <td>-0.575000</td>\n",
       "    </tr>\n",
       "    <tr>\n",
       "      <th>41498568</th>\n",
       "      <td>41498568</td>\n",
       "      <td>1417</td>\n",
       "      <td>2</td>\n",
       "      <td>2018-12-31 23:00:00</td>\n",
       "      <td>15</td>\n",
       "      <td>Lodging/residential</td>\n",
       "      <td>40451</td>\n",
       "      <td>3</td>\n",
       "      <td>42</td>\n",
       "      <td>0.0</td>\n",
       "      <td>...</td>\n",
       "      <td>2.2</td>\n",
       "      <td>0.0</td>\n",
       "      <td>1014.700012</td>\n",
       "      <td>3</td>\n",
       "      <td>5.1</td>\n",
       "      <td>92.5</td>\n",
       "      <td>-1.217</td>\n",
       "      <td>-4.4</td>\n",
       "      <td>3.300000</td>\n",
       "      <td>-0.575000</td>\n",
       "    </tr>\n",
       "    <tr>\n",
       "      <th>41498569</th>\n",
       "      <td>41498569</td>\n",
       "      <td>1431</td>\n",
       "      <td>2</td>\n",
       "      <td>2018-12-31 23:00:00</td>\n",
       "      <td>15</td>\n",
       "      <td>Public services</td>\n",
       "      <td>111360</td>\n",
       "      <td>9</td>\n",
       "      <td>17</td>\n",
       "      <td>0.0</td>\n",
       "      <td>...</td>\n",
       "      <td>2.2</td>\n",
       "      <td>0.0</td>\n",
       "      <td>1014.700012</td>\n",
       "      <td>3</td>\n",
       "      <td>5.1</td>\n",
       "      <td>92.5</td>\n",
       "      <td>-1.217</td>\n",
       "      <td>-4.4</td>\n",
       "      <td>3.300000</td>\n",
       "      <td>-0.575000</td>\n",
       "    </tr>\n",
       "    <tr>\n",
       "      <th>41498570</th>\n",
       "      <td>41498570</td>\n",
       "      <td>1448</td>\n",
       "      <td>0</td>\n",
       "      <td>2018-12-31 23:00:00</td>\n",
       "      <td>15</td>\n",
       "      <td>Office</td>\n",
       "      <td>92271</td>\n",
       "      <td>7</td>\n",
       "      <td>16</td>\n",
       "      <td>0.0</td>\n",
       "      <td>...</td>\n",
       "      <td>2.2</td>\n",
       "      <td>0.0</td>\n",
       "      <td>1014.700012</td>\n",
       "      <td>3</td>\n",
       "      <td>5.1</td>\n",
       "      <td>92.5</td>\n",
       "      <td>-1.217</td>\n",
       "      <td>-4.4</td>\n",
       "      <td>3.300000</td>\n",
       "      <td>-0.575000</td>\n",
       "    </tr>\n",
       "  </tbody>\n",
       "</table>\n",
       "<p>41498571 rows × 24 columns</p>\n",
       "</div>"
      ],
      "text/plain": [
       "            row_id  building_id  meter            timestamp  site_id  \\\n",
       "0                0            0      0  2017-01-01 00:00:00        0   \n",
       "1                1            1      0  2017-01-01 00:00:00        0   \n",
       "2                2            2      0  2017-01-01 00:00:00        0   \n",
       "3                3            3      0  2017-01-01 00:00:00        0   \n",
       "4                4            4      0  2017-01-01 00:00:00        0   \n",
       "...            ...          ...    ...                  ...      ...   \n",
       "41498566  41498566         1369      2  2018-12-31 23:00:00       15   \n",
       "41498567  41498567         1402      0  2018-12-31 23:00:00       15   \n",
       "41498568  41498568         1417      2  2018-12-31 23:00:00       15   \n",
       "41498569  41498569         1431      2  2018-12-31 23:00:00       15   \n",
       "41498570  41498570         1448      0  2018-12-31 23:00:00       15   \n",
       "\n",
       "                            primary_use  square_feet  floor_count  age  \\\n",
       "0                             Education         7432            0    9   \n",
       "1                             Education         2720            0   13   \n",
       "2                             Education         5376            0   26   \n",
       "3                             Education        23685            1   15   \n",
       "4                             Education       116607            6   42   \n",
       "...                                 ...          ...          ...  ...   \n",
       "41498566  Entertainment/public assembly        53194            5   64   \n",
       "41498567            Lodging/residential       133594           11   56   \n",
       "41498568            Lodging/residential        40451            3   42   \n",
       "41498569                Public services       111360            9   17   \n",
       "41498570                         Office        92271            7   16   \n",
       "\n",
       "          weekday  ...  dew_temperature  precip_depth_1_hr  \\\n",
       "0             6.0  ...             11.7                0.0   \n",
       "1             6.0  ...             11.7                0.0   \n",
       "2             6.0  ...             11.7                0.0   \n",
       "3             6.0  ...             11.7                0.0   \n",
       "4             6.0  ...             11.7                0.0   \n",
       "...           ...  ...              ...                ...   \n",
       "41498566      0.0  ...              2.2                0.0   \n",
       "41498567      0.0  ...              2.2                0.0   \n",
       "41498568      0.0  ...              2.2                0.0   \n",
       "41498569      0.0  ...              2.2                0.0   \n",
       "41498570      0.0  ...              2.2                0.0   \n",
       "\n",
       "          sea_level_pressure  wind_direction  wind_speed  humidity  \\\n",
       "0                1021.400024               2         3.6      67.5   \n",
       "1                1021.400024               2         3.6      67.5   \n",
       "2                1021.400024               2         3.6      67.5   \n",
       "3                1021.400024               2         3.6      67.5   \n",
       "4                1021.400024               2         3.6      67.5   \n",
       "...                      ...             ...         ...       ...   \n",
       "41498566         1014.700012               3         5.1      92.5   \n",
       "41498567         1014.700012               3         5.1      92.5   \n",
       "41498568         1014.700012               3         5.1      92.5   \n",
       "41498569         1014.700012               3         5.1      92.5   \n",
       "41498570         1014.700012               3         5.1      92.5   \n",
       "\n",
       "          apparent_temp  min_temperature  max_temperature  mean_temperature  \n",
       "0                14.010             12.2        27.200001         18.987499  \n",
       "1                14.010             12.2        27.200001         18.987499  \n",
       "2                14.010             12.2        27.200001         18.987499  \n",
       "3                14.010             12.2        27.200001         18.987499  \n",
       "4                14.010             12.2        27.200001         18.987499  \n",
       "...                 ...              ...              ...               ...  \n",
       "41498566         -1.217             -4.4         3.300000         -0.575000  \n",
       "41498567         -1.217             -4.4         3.300000         -0.575000  \n",
       "41498568         -1.217             -4.4         3.300000         -0.575000  \n",
       "41498569         -1.217             -4.4         3.300000         -0.575000  \n",
       "41498570         -1.217             -4.4         3.300000         -0.575000  \n",
       "\n",
       "[41498571 rows x 24 columns]"
      ]
     },
     "metadata": {},
     "output_type": "display_data"
    }
   ],
   "source": [
    "display(train)"
   ]
  },
  {
   "cell_type": "code",
   "execution_count": 28,
   "metadata": {},
   "outputs": [
    {
     "name": "stdout",
     "output_type": "stream",
     "text": [
      "Series([], dtype: int64)\n"
     ]
    }
   ],
   "source": [
    "missing_val_count_by_column = (train.isnull().sum())\n",
    "print(missing_val_count_by_column[missing_val_count_by_column > 0])"
   ]
  },
  {
   "cell_type": "code",
   "execution_count": 29,
   "metadata": {},
   "outputs": [
    {
     "name": "stdout",
     "output_type": "stream",
     "text": [
      "Memory usage of properties dataframe is : 4392.949467658997  MB\n",
      "___MEMORY USAGE AFTER COMPLETION:___\n",
      "Memory usage is:  3324.3941917419434  MB\n",
      "This is  75.67567567567568 % of the initial size\n"
     ]
    }
   ],
   "source": [
    "train, NAlist = reduce_mem_usage(train)"
   ]
  },
  {
   "cell_type": "code",
   "execution_count": 30,
   "metadata": {},
   "outputs": [],
   "source": [
    "with open(dump_name, 'wb') as f:\n",
    "    pickle.dump(train, f)"
   ]
  },
  {
   "cell_type": "code",
   "execution_count": null,
   "metadata": {},
   "outputs": [],
   "source": []
  }
 ],
 "metadata": {
  "kernelspec": {
   "display_name": "Python 3",
   "language": "python",
   "name": "python3"
  },
  "language_info": {
   "codemirror_mode": {
    "name": "ipython",
    "version": 3
   },
   "file_extension": ".py",
   "mimetype": "text/x-python",
   "name": "python",
   "nbconvert_exporter": "python",
   "pygments_lexer": "ipython3",
   "version": "3.7.5rc1"
  }
 },
 "nbformat": 4,
 "nbformat_minor": 2
}
